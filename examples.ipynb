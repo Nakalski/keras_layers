{
 "cells": [
  {
   "cell_type": "code",
   "execution_count": 1,
   "metadata": {},
   "outputs": [],
   "source": [
    "import numpy as np\n",
    "import matplotlib.pyplot as plt\n",
    "import tensorflow as tf\n",
    "import os\n",
    "\n",
    "os.environ[\"CUDA_VISIBLE_DEVICES\"] = '-1'\n",
    "np.set_printoptions(linewidth=110, precision=4)\n",
    "\n",
    "from tensorflow.keras.layers import Input, Conv2D, Activation, MaxPool2D, AvgPool2D\n",
    "from tensorflow.keras.models import Model"
   ]
  },
  {
   "cell_type": "markdown",
   "metadata": {},
   "source": [
    "### SparseConv2D and PartialConv2D\n",
    "\n",
    "see [sparseconvolution.ipynb](sparseconvolution.ipynb)"
   ]
  },
  {
   "cell_type": "markdown",
   "metadata": {},
   "source": [
    "### MaxPoolingWithArgmax2D and MaxUnpooling2D"
   ]
  },
  {
   "cell_type": "code",
   "execution_count": 2,
   "metadata": {},
   "outputs": [
    {
     "name": "stdout",
     "output_type": "stream",
     "text": [
      "(None, 32, 32, 10)\n",
      "[(None, None, None, None), (None, 16, 16, 10), (None, 16, 16, 10)]\n",
      "[(4, 32, 32, 10), (4, 16, 16, 10), (4, 16, 16, 10)]\n",
      "\n",
      "[[0.4659 0.2935]\n",
      " [0.0227 0.4706]]\n",
      "0.47061765 330\n",
      "[[0.     0.    ]\n",
      " [0.     0.4706]]\n"
     ]
    },
    {
     "data": {
      "image/png": "[encoded data removed]",
      "text/plain": [
       "<Figure size 1008x216 with 4 Axes>"
      ]
     },
     "metadata": {
      "needs_background": "light"
     },
     "output_type": "display_data"
    }
   ],
   "source": [
    "from layers import MaxPoolingWithArgmax2D, MaxUnpooling2D\n",
    "\n",
    "size = 2\n",
    "x = x_in = Input(shape=(32, 32, 10))\n",
    "x, m = MaxPoolingWithArgmax2D(pool_size=size)(x)\n",
    "x_p = x\n",
    "x = MaxUnpooling2D(size=size)([x,m])\n",
    "model = Model(x_in, [x,m,x_p])\n",
    "\n",
    "print(model.input_shape)\n",
    "print(model.output_shape)\n",
    "\n",
    "batch = np.random.rand(4,32,32,10).astype('float32')\n",
    "\n",
    "preds = model.predict(batch)\n",
    "print([e.shape for e in preds])\n",
    "\n",
    "for i in [0]:\n",
    "    print()\n",
    "    print(batch[0][:size,:size,i])\n",
    "    print(preds[2][0][0,0,i], int(preds[1][0][0,0,i]))\n",
    "    print(preds[0][0][:size,:size,i])\n",
    "    \n",
    "plt.figure(figsize=(14,3))\n",
    "plt.subplot(141); plt.title('input')\n",
    "plt.imshow(batch[0,:,:,0])\n",
    "plt.subplot(142); plt.title('maxpooling')\n",
    "plt.imshow(preds[2][0,:,:,0])\n",
    "plt.subplot(143); plt.title('indices')\n",
    "plt.imshow(preds[1][0,:,:,0])\n",
    "plt.subplot(144); plt.title('unpooling')\n",
    "plt.imshow(preds[0][0,:,:,0])\n",
    "plt.show()"
   ]
  },
  {
   "cell_type": "markdown",
   "metadata": {},
   "source": [
    "### AddCoord2D"
   ]
  },
  {
   "cell_type": "code",
   "execution_count": 3,
   "metadata": {},
   "outputs": [
    {
     "name": "stdout",
     "output_type": "stream",
     "text": [
      "(None, 28, 28, 3)\n",
      "(None, 28, 28, 5)\n",
      "[[ 0.4147  0.2122  0.4213 -1.      0.9259]\n",
      " [ 0.277   0.7857  0.39   -0.9259  0.9259]\n",
      " [ 0.1146  0.0171  0.1901 -0.8519  0.9259]\n",
      " [ 0.9058  0.5574  0.0226 -0.7778  0.9259]\n",
      " [ 0.2437  0.0084  0.559  -0.7037  0.9259]\n",
      " [ 0.041   0.4743  0.4853 -0.6296  0.9259]\n",
      " [ 0.4955  0.8261  0.0195 -0.5556  0.9259]\n",
      " [ 0.0021  0.3706  0.508  -0.4815  0.9259]\n",
      " [ 0.556   0.6704  0.9399 -0.4074  0.9259]\n",
      " [ 0.331   0.3188  0.5686 -0.3333  0.9259]\n",
      " [ 0.9825  0.283   0.1884 -0.2593  0.9259]\n",
      " [ 0.5171  0.5946  0.0987 -0.1852  0.9259]\n",
      " [ 0.4246  0.4799  0.4373 -0.1111  0.9259]\n",
      " [ 0.8     0.7057  0.7673 -0.037   0.9259]\n",
      " [ 0.0434  0.3547  0.2791  0.037   0.9259]\n",
      " [ 0.5431  0.6299  0.1728  0.1111  0.9259]\n",
      " [ 0.2309  0.578   0.4045  0.1852  0.9259]\n",
      " [ 0.5644  0.0977  0.7081  0.2593  0.9259]\n",
      " [ 0.3113  0.6464  0.8978  0.3333  0.9259]\n",
      " [ 0.1136  0.4867  0.8515  0.4074  0.9259]\n",
      " [ 0.8031  0.8038  0.6576  0.4815  0.9259]\n",
      " [ 0.3704  0.3949  0.9279  0.5556  0.9259]\n",
      " [ 0.6792  0.339   0.6366  0.6296  0.9259]\n",
      " [ 0.4639  0.5134  0.7409  0.7037  0.9259]\n",
      " [ 0.4403  0.1509  0.1581  0.7778  0.9259]\n",
      " [ 0.6374  0.4545  0.7302  0.8519  0.9259]\n",
      " [ 0.695   0.2277  0.1998  0.9259  0.9259]\n",
      " [ 0.992   0.6593  0.1006  1.      0.9259]]\n"
     ]
    }
   ],
   "source": [
    "from layers import AddCoords2D\n",
    "\n",
    "x = x_in = Input(shape=(28, 28, 3))\n",
    "x = AddCoords2D()(x)\n",
    "model = Model(x_in, x)\n",
    "\n",
    "print(model.input_shape)\n",
    "print(model.output_shape)\n",
    "\n",
    "batch = np.random.rand(4,28,28,3).astype('float32')\n",
    "\n",
    "preds = model.predict(batch)\n",
    "print(preds[0][-2,:,:])"
   ]
  },
  {
   "cell_type": "markdown",
   "metadata": {},
   "source": [
    "### DepthwiseConv2D"
   ]
  },
  {
   "cell_type": "code",
   "execution_count": 4,
   "metadata": {},
   "outputs": [
    {
     "name": "stdout",
     "output_type": "stream",
     "text": [
      "(None, 28, 28, 3)\n",
      "(None, 28, 28, 32)\n",
      "[ 0.031  -0.2327 -0.3472 -0.3636 -0.04   -0.2751 -0.1038  0.1884 -0.3158 -0.005   0.3535 -0.0798 -0.1447\n",
      "  0.019  -0.5067 -0.1077  0.1027 -0.0345  0.1869  0.2644 -0.2179  0.3228  0.2713 -0.2901  0.0245  0.0948\n",
      " -0.0273 -0.0285  0.3437  0.4658 -0.0039 -0.3469]\n"
     ]
    }
   ],
   "source": [
    "from layers import DepthwiseConv2D\n",
    "\n",
    "cm = 2 # channel_multiplier\n",
    "\n",
    "x = x_in = Input(shape=(28, 28, 3))\n",
    "x = Conv2D(16, (3,3), padding='same')(x)\n",
    "x = DepthwiseConv2D(cm, (3,3), padding='same')(x)\n",
    "x = Conv2D(16*cm, (1,1), padding='same')(x)\n",
    "model = Model(x_in, x)\n",
    "\n",
    "print(model.input_shape)\n",
    "print(model.output_shape)\n",
    "\n",
    "batch = np.random.rand(4,28,28,3).astype('float32')\n",
    "\n",
    "preds = model.predict(batch)\n",
    "print(preds[0][0,0,:])"
   ]
  },
  {
   "cell_type": "markdown",
   "metadata": {},
   "source": [
    "### LayerNormalization"
   ]
  },
  {
   "cell_type": "code",
   "execution_count": 2,
   "metadata": {
    "scrolled": false
   },
   "outputs": [
    {
     "name": "stdout",
     "output_type": "stream",
     "text": [
      "(None, 28, 28, 3)\n",
      "(None, 28, 28, 3)\n",
      "0.08324947 0.99998516\n"
     ]
    }
   ],
   "source": [
    "from layers import LayerNormalization\n",
    "\n",
    "x = x_in = Input(shape=(28, 28, 3))\n",
    "x = LayerNormalization()(x)\n",
    "model = Model(x_in, x)\n",
    "\n",
    "print(model.input_shape)\n",
    "print(model.output_shape)\n",
    "\n",
    "batch = np.random.rand(4,28,28,3).astype('float32')\n",
    "\n",
    "preds = model.predict(batch)\n",
    "\n",
    "print(np.var(batch), np.var(preds))"
   ]
  },
  {
   "cell_type": "markdown",
   "metadata": {},
   "source": [
    "### Conv2D (Weight Normalization)"
   ]
  },
  {
   "cell_type": "code",
   "execution_count": 3,
   "metadata": {},
   "outputs": [
    {
     "name": "stdout",
     "output_type": "stream",
     "text": [
      "(None, 28, 28, 3)\n",
      "[(None, 26, 26, 10), (None, 26, 26, 10)]\n",
      "0.084439 8.107712 0.21911137\n"
     ]
    }
   ],
   "source": [
    "from layers import Conv2D, gaussian_init\n",
    "\n",
    "x = x_in = Input(shape=(28, 28, 3))\n",
    "x1 = Conv2D(10, 3, kernel_initializer=gaussian_init)(x)\n",
    "x2 = Conv2D(10, 3, kernel_initializer=gaussian_init, weightnorm=True)(x)\n",
    "model = Model([x_in], [x1, x2])\n",
    "\n",
    "print(model.input_shape)\n",
    "print(model.output_shape)\n",
    "\n",
    "batch = np.random.rand(4,28,28,3).astype('float32')\n",
    "preds = model.predict(batch)\n",
    "\n",
    "print(np.var(batch), np.var(preds[0]), np.var(preds[1]))"
   ]
  },
  {
   "cell_type": "markdown",
   "metadata": {},
   "source": [
    "### Resize2D"
   ]
  },
  {
   "cell_type": "code",
   "execution_count": 7,
   "metadata": {},
   "outputs": [
    {
     "name": "stdout",
     "output_type": "stream",
     "text": [
      "(None, 12, 12, 1)\n",
      "[(None, 6, 6, 1), (None, 24, 24, 1), (None, 6, 6, 1), (None, 24, 24, 1)]\n"
     ]
    },
    {
     "data": {
      "image/png": "[encoded data removed]",
      "text/plain": [
       "<Figure size 1152x216 with 5 Axes>"
      ]
     },
     "metadata": {
      "needs_background": "light"
     },
     "output_type": "display_data"
    }
   ],
   "source": [
    "from layers import Resize2D\n",
    "\n",
    "s = 12\n",
    "s1, s2 = s//2, s*2\n",
    "\n",
    "x = x_in = Input(shape=(s, s, 1))\n",
    "x1 = Resize2D((s1,s1), 'bilinear')(x)\n",
    "x2 = Resize2D((s2,s2), 'bilinear')(x)\n",
    "x3 = Resize2D((s1,s1), 'nearest')(x)\n",
    "x4 = Resize2D((s2,s2), 'nearest')(x)\n",
    "model = Model(x_in, [x1,x2,x3,x4])\n",
    "\n",
    "print(model.input_shape)\n",
    "print(model.output_shape)\n",
    "\n",
    "batch = np.random.rand(4,s,s,1).astype('float32')\n",
    "\n",
    "preds = model.predict(batch)\n",
    "\n",
    "plt.figure(figsize=(16,3))\n",
    "plt.subplot(151); plt.title('input')\n",
    "plt.imshow(batch[0,:,:,0])\n",
    "plt.subplot(152); plt.title('bilinear %.1f' % (s1/s,))\n",
    "plt.imshow(preds[0][0,:,:,0])\n",
    "plt.subplot(153); plt.title('bilinear %.1f' % (s2/s,))\n",
    "plt.imshow(preds[1][0,:,:,0])\n",
    "plt.subplot(154); plt.title('nearest %.1f' % (s1/s,))\n",
    "plt.imshow(preds[2][0,:,:,0])\n",
    "plt.subplot(155); plt.title('nearest %.1f' % (s2/s,))\n",
    "plt.imshow(preds[3][0,:,:,0])\n",
    "plt.show()"
   ]
  },
  {
   "cell_type": "markdown",
   "metadata": {},
   "source": [
    "### Blur2D"
   ]
  },
  {
   "cell_type": "code",
   "execution_count": 8,
   "metadata": {},
   "outputs": [
    {
     "data": {
      "image/png": "[encoded data removed]",
      "text/plain": [
       "<Figure size 1152x216 with 5 Axes>"
      ]
     },
     "metadata": {
      "needs_background": "light"
     },
     "output_type": "display_data"
    }
   ],
   "source": [
    "from layers import Blur2D\n",
    "\n",
    "x = x_in = Input(shape=(32, 32, 10))\n",
    "x1 = MaxPool2D(3, 2, padding='same')(x)\n",
    "x2 = AvgPool2D(3, 2, padding='same')(x)\n",
    "x3 = Blur2D(5, 2, padding='same')(x)\n",
    "x4 = Blur2D(7, 2, padding='same')(x)\n",
    "\n",
    "model = Model(x_in, [x1,x2,x3,x4])\n",
    "\n",
    "batch = np.random.binomial(4, 0.5, size=(4,32,32,10)) / 4\n",
    "batch[:,:16,16:] = 0\n",
    "batch[:,4:8,20:24] = 1\n",
    "\n",
    "preds = model.predict(batch)\n",
    "\n",
    "plt.figure(figsize=(16,3))\n",
    "plt.subplot(151); plt.title('input')\n",
    "plt.imshow(batch[0,:,:,0], vmin=0, vmax=1)\n",
    "plt.subplot(152); plt.title('max 3')\n",
    "plt.imshow(preds[0][0,:,:,0], vmin=0, vmax=1)\n",
    "plt.subplot(153); plt.title('average 3')\n",
    "plt.imshow(preds[1][0,:,:,0], vmin=0, vmax=1)\n",
    "plt.subplot(154); plt.title('blur 5')\n",
    "plt.imshow(preds[2][0,:,:,0], vmin=0, vmax=1)\n",
    "plt.subplot(155); plt.title('blur 7')\n",
    "plt.imshow(preds[3][0,:,:,0], vmin=0, vmax=1)\n",
    "plt.show()"
   ]
  },
  {
   "cell_type": "code",
   "execution_count": null,
   "metadata": {},
   "outputs": [],
   "source": []
  },
  {
   "cell_type": "code",
   "execution_count": null,
   "metadata": {},
   "outputs": [],
   "source": []
  }
 ],
 "metadata": {
  "kernelspec": {
   "display_name": "Python 3",
   "language": "python",
   "name": "python3"
  },
  "language_info": {
   "codemirror_mode": {
    "name": "ipython",
    "version": 3
   },
   "file_extension": ".py",
   "mimetype": "text/x-python",
   "name": "python",
   "nbconvert_exporter": "python",
   "pygments_lexer": "ipython3",
   "version": "3.7.5"
  },
  "toc": {
   "base_numbering": 1,
   "nav_menu": {},
   "number_sections": true,
   "sideBar": true,
   "skip_h1_title": false,
   "title_cell": "Table of Contents",
   "title_sidebar": "Contents",
   "toc_cell": false,
   "toc_position": {},
   "toc_section_display": true,
   "toc_window_display": false
  }
 },
 "nbformat": 4,
 "nbformat_minor": 2
}
